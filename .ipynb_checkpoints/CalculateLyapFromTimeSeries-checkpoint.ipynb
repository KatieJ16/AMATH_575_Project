{
 "cells": [
  {
   "cell_type": "code",
   "execution_count": 2,
   "metadata": {},
   "outputs": [],
   "source": [
    "import math\n",
    "from math import log"
   ]
  },
  {
   "cell_type": "code",
   "execution_count": 8,
   "metadata": {},
   "outputs": [
    {
     "name": "stdout",
     "output_type": "stream",
     "text": [
      "0 -1.8038731989257495\n",
      "1 -1.8909218872125872\n",
      "2 -1.9780771612363544\n",
      "3 -2.065332886167837\n",
      "4 -2.1554568271759527\n",
      "5 -2.24584834601883\n",
      "6 -2.336510699181204\n",
      "7 -2.427445354957958\n",
      "8 -2.5186514738027475\n",
      "9 -2.6101252585754855\n",
      "10 -2.7018591658627464\n",
      "11 -2.793840928238367\n",
      "12 -2.8860523638863427\n",
      "13 -2.9784679268625176\n",
      "14 -3.0710529534520647\n",
      "15 -3.1637615581275758\n",
      "16 -3.2565341382944575\n",
      "17 -3.3492944579966815\n",
      "18 -3.4419463161047643\n",
      "19 -3.534369858990985\n",
      "20 -3.6264177077448374\n",
      "21 -3.717911242135697\n",
      "22 -3.8149396874207233\n",
      "23 -3.911590266677453\n",
      "24 -4.007585931568841\n",
      "25 -4.102583854620729\n",
      "26 -4.1961709892113825\n",
      "27 -4.287867394643841\n",
      "28 -4.386335334740684\n",
      "29 -4.4825760553613785\n",
      "30 -4.5757922538284515\n",
      "31 -4.6771190305924\n",
      "32 -4.7746064606803245\n",
      "33 -4.866956023037413\n",
      "34 -4.968198465344577\n",
      "35 -5.062440300764847\n",
      "36 -5.167390467585963\n",
      "37 -5.262463843435192\n",
      "38 -5.37007384560689\n",
      "39 -5.4632539692410065\n",
      "40 -5.5698891053859665\n",
      "41 -5.655190787920208\n",
      "42 -5.751605028938018\n",
      "43 -5.869133117487424\n",
      "44 -5.94620248983699\n",
      "45 -6.0338351428312675\n",
      "46 -6.1478759423486045\n",
      "47 -6.3675493816585895\n",
      "48 -6.428773880963415\n"
     ]
    }
   ],
   "source": [
    "def d(series,i,j):\n",
    "    return abs(series[i]-series[j])\n",
    "\n",
    "def calculate_lyapunov_from_timesseries(y,dt)\n",
    "    N=len(y)\n",
    "    eps=dt\n",
    "    dlist=[[] for i in range(N)]\n",
    "    n=0 #number of nearby pairs found\n",
    "    for i in range(N):\n",
    "        for j in range(i+1,N):\n",
    "            if d(y,i,j) < eps:\n",
    "                n+=1\n",
    "                for k in range(min(N-i,N-j)):\n",
    "                    dlist[k].append(log(d(y,i+k,j+k)))\n",
    "    exp_list=[]\n",
    "    for i in range(len(dlist)):\n",
    "        if len(dlist[i]):\n",
    "            exp_list.append(sum(dlist[i])/len(dlist[i]))\n",
    "    return max(exp_list)\n",
    "\n"
   ]
  },
  {
   "cell_type": "code",
   "execution_count": 3,
   "metadata": {},
   "outputs": [
    {
     "data": {
      "image/png": "[encoded data removed]",
      "text/plain": [
       "<Figure size 432x288 with 1 Axes>"
      ]
     },
     "metadata": {
      "needs_background": "light"
     },
     "output_type": "display_data"
    }
   ],
   "source": [
    "import numpy as np\n",
    "from scipy.integrate import odeint\n",
    "import matplotlib.pyplot as plt\n",
    "\n",
    "# function that returns dy/dt\n",
    "def model(y,t):\n",
    "    k = 0.3\n",
    "    dydt = -k * y\n",
    "    return dydt\n",
    "\n",
    "# initial condition\n",
    "y0 = 5\n",
    "\n",
    "# time points\n",
    "t = np.linspace(0,20)\n",
    "\n",
    "# solve ODE\n",
    "y = odeint(model,y0,t)\n",
    "\n",
    "# plot results\n",
    "plt.plot(t,y)\n",
    "plt.xlabel('time')\n",
    "plt.ylabel('y(t)')\n",
    "plt.show()"
   ]
  },
  {
   "cell_type": "code",
   "execution_count": null,
   "metadata": {},
   "outputs": [],
   "source": []
  }
 ],
 "metadata": {
  "kernelspec": {
   "display_name": "Python 3",
   "language": "python",
   "name": "python3"
  },
  "language_info": {
   "codemirror_mode": {
    "name": "ipython",
    "version": 3
   },
   "file_extension": ".py",
   "mimetype": "text/x-python",
   "name": "python",
   "nbconvert_exporter": "python",
   "pygments_lexer": "ipython3",
   "version": "3.7.7"
  }
 },
 "nbformat": 4,
 "nbformat_minor": 4
}
