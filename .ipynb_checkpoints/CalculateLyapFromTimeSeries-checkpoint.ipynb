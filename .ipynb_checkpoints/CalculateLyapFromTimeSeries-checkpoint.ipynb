{
 "cells": [
  {
   "cell_type": "code",
   "execution_count": 1,
   "metadata": {},
   "outputs": [],
   "source": [
    "import math\n",
    "from math import log\n",
    "import numpy as np\n",
    "from scipy.integrate import odeint\n",
    "import matplotlib.pyplot as plt"
   ]
  },
  {
   "cell_type": "markdown",
   "metadata": {},
   "source": [
    "# #http://www.chebfun.org/examples/ode-nonlin/LyapunovExponents.html"
   ]
  },
  {
   "cell_type": "code",
   "execution_count": 8,
   "metadata": {},
   "outputs": [],
   "source": [
    "def lin_model(y,t):\n",
    "    sig = 3.0\n",
    "    lam = 0.1\n",
    "    du1 = 1 + sig*y[1]\n",
    "    du2 = -lam*y[1]\n",
    "    return [du1,du2]\n",
    "\n",
    "# initial condition\n",
    "y0 = [1.0, 0.01]\n",
    "y0_dif = [1.0, 0.01+10e-9]\n",
    "dt = 0.1\n"
   ]
  },
  {
   "cell_type": "code",
   "execution_count": 17,
   "metadata": {},
   "outputs": [],
   "source": [
    "N = 1000\n",
    "Ts =np.linspace(1,20,20); lexps = []#np.zeros(len(Ts),1)\n",
    "for T in Ts:\n",
    "    # time points\n",
    "    t = np.linspace(0,T,num=int(T/dt))\n",
    "\n",
    "    # solve ODE\n",
    "    y1 = odeint(lin_model,y0,t)\n",
    "    kick_1 = 0.1*np.sin(2*np.pi*y1[-1,0])\n",
    "    y1[-1,1]+=kick_1\n",
    "    \n",
    "    y2 = odeint(lin_model,y0_dif,t)\n",
    "    kick_2 = 0.1*np.sin(2*np.pi*y2[-1,0])\n",
    "    y2[-1,1]+=kick_2\n",
    "    end_times = np.linspace(T,N,int(N/T))\n",
    "    prev=T\n",
    "    for i in end_times:\n",
    "        t = np.linspace(prev+dt,i,num=int((i-prev)/dt))\n",
    "        traj1=odeint(lin_model,y1[-1,:],t)\n",
    "        y1=np.vstack((y1,traj1))\n",
    "        kick_1 = 0.1*np.sin(2*np.pi*y1[-1,0])\n",
    "        y1[-1,1]+=kick_1\n",
    "        \n",
    "        traj2=odeint(lin_model,y2[-1,:],t)\n",
    "        y2=np.vstack((y2,traj2)) \n",
    "        kick_2 = 0.1*np.sin(2*np.pi*y2[-1,0])\n",
    "        y2[-1,1]+=kick_1\n",
    "        prev=i\n",
    "    d = np.sqrt((y1[:,0]-y2[:,0])**2+(y1[:,1]-y2[:,1])**2)\n",
    "    t_total=np.linspace(0,N,num = int(N/dt))\n",
    "    logd=np.log(d)\n",
    "    p=np.polyfit(t_total[0:200],logd[0:200],deg=1)\n",
    "    polylogd=p[1]+p[0]*np.linspace(0,N,num = int(N/dt))\n",
    "    slope = polylogd[1] - polylogd[0]\n",
    "    lexps.append(slope)\n",
    "    "
   ]
  },
  {
   "cell_type": "code",
   "execution_count": 18,
   "metadata": {},
   "outputs": [
    {
     "data": {
      "text/plain": [
       "[<matplotlib.lines.Line2D at 0x122803050>]"
      ]
     },
     "execution_count": 18,
     "metadata": {},
     "output_type": "execute_result"
    },
    {
     "data": {
      "image/png": "[encoded data removed]",
      "text/plain": [
       "<Figure size 432x288 with 1 Axes>"
      ]
     },
     "metadata": {
      "needs_background": "light"
     },
     "output_type": "display_data"
    }
   ],
   "source": [
    "plt.plot(lexps*Ts)"
   ]
  },
  {
   "cell_type": "code",
   "execution_count": 19,
   "metadata": {},
   "outputs": [],
   "source": [
    "def lin_model2(y,t):\n",
    "    sig = 0.2\n",
    "    lam = 0.1\n",
    "    du1 = 1 + sig*y[1]\n",
    "    du2 = -lam*y[1]\n",
    "    return [du1,du2]\n",
    "\n",
    "# initial condition\n",
    "y0 = [1.0, 0.01]\n",
    "y0_dif = [1.0, 0.01+10e-9]\n",
    "dt = 0.1\n"
   ]
  },
  {
   "cell_type": "code",
   "execution_count": 20,
   "metadata": {},
   "outputs": [],
   "source": [
    "N = 1000\n",
    "Ts =np.linspace(1,20,20); lexps = []#np.zeros(len(Ts),1)\n",
    "for T in Ts:\n",
    "    # time points\n",
    "    t = np.linspace(0,T,num=int(T/dt))\n",
    "\n",
    "    # solve ODE\n",
    "    y1 = odeint(lin_model2,y0,t)\n",
    "    kick_1 = 0.1*np.sin(2*np.pi*y1[-1,0])\n",
    "    y1[-1,1]+=kick_1\n",
    "    \n",
    "    y2 = odeint(lin_model2,y0_dif,t)\n",
    "    kick_2 = 0.1*np.sin(2*np.pi*y2[-1,0])\n",
    "    y2[-1,1]+=kick_2\n",
    "    end_times = np.linspace(T,N,int(N/T))\n",
    "    prev=T\n",
    "    for i in end_times:\n",
    "        t = np.linspace(prev+dt,i,num=int((i-prev)/dt))\n",
    "        traj1=odeint(lin_model2,y1[-1,:],t)\n",
    "        y1=np.vstack((y1,traj1))\n",
    "        kick_1 = 0.1*np.sin(2*np.pi*y1[-1,0])\n",
    "        y1[-1,1]+=kick_1\n",
    "        \n",
    "        traj2=odeint(lin_model2,y2[-1,:],t)\n",
    "        y2=np.vstack((y2,traj2)) \n",
    "        kick_2 = 0.1*np.sin(2*np.pi*y2[-1,0])\n",
    "        y2[-1,1]+=kick_1\n",
    "        prev=i\n",
    "    d = np.sqrt((y1[:,0]-y2[:,0])**2+(y1[:,1]-y2[:,1])**2)\n",
    "    t_total=np.linspace(0,N,num = int(N/dt))\n",
    "    logd=np.log(d)\n",
    "    p=np.polyfit(t_total[0:200],logd[0:200],deg=1)\n",
    "    polylogd=p[1]+p[0]*np.linspace(0,N,num = int(N/dt))\n",
    "    slope = polylogd[1] - polylogd[0]\n",
    "    lexps.append(slope)\n",
    "    "
   ]
  },
  {
   "cell_type": "code",
   "execution_count": 21,
   "metadata": {},
   "outputs": [
    {
     "data": {
      "text/plain": [
       "[<matplotlib.lines.Line2D at 0x1229bc610>]"
      ]
     },
     "execution_count": 21,
     "metadata": {},
     "output_type": "execute_result"
    },
    {
     "data": {
      "image/png": "[encoded data removed]",
      "text/plain": [
       "<Figure size 432x288 with 1 Axes>"
      ]
     },
     "metadata": {
      "needs_background": "light"
     },
     "output_type": "display_data"
    }
   ],
   "source": [
    "plt.plot(lexps*Ts)"
   ]
  },
  {
   "cell_type": "code",
   "execution_count": 22,
   "metadata": {},
   "outputs": [],
   "source": [
    "def pred_prey(u,t):\n",
    "    m=0.25\n",
    "    k=12\n",
    "    c=0.6\n",
    "    du1 = u[0]*(1-u[0]/k)-m*u[1]*u[0]/(1+u[0])\n",
    "    du2 = -c*u[1]+m*u[0]*u[1]/(1+u[0])\n",
    "    return [du1,du2]\n",
    "\n",
    "# initial condition\n",
    "y0 = [.001,.5]\n",
    "y0_dif = [.001+10e-9,.5]\n",
    "dt = 0.1\n",
    "\n"
   ]
  },
  {
   "cell_type": "code",
   "execution_count": 23,
   "metadata": {},
   "outputs": [
    {
     "name": "stderr",
     "output_type": "stream",
     "text": [
      "/opt/anaconda3/lib/python3.7/site-packages/ipykernel_launcher.py:31: RuntimeWarning: divide by zero encountered in log\n"
     ]
    }
   ],
   "source": [
    "N = 1000\n",
    "Ts =np.linspace(1,20,20); lexps = []\n",
    "for T in Ts:\n",
    "    # time points\n",
    "    t = np.linspace(0,T,num=int(T/dt))\n",
    "\n",
    "    # solve ODE\n",
    "    y1 = odeint(pred_prey,y0,t)\n",
    "    kick_1 = 0.1*np.sin(2*np.pi*y1[-1,0])\n",
    "    y1[-1,1]+=kick_1\n",
    "    \n",
    "    y2 = odeint(pred_prey,y0_dif,t)\n",
    "    kick_2 = 0.1*np.sin(2*np.pi*y2[-1,0])\n",
    "    y2[-1,1]+=kick_2\n",
    "    end_times = np.linspace(T,N,int(N/T))\n",
    "    prev=T\n",
    "    for i in end_times:\n",
    "        t = np.linspace(prev+dt,i,num=int((i-prev)/dt))\n",
    "        traj1=odeint(pred_prey,y1[-1,:],t)\n",
    "        y1=np.vstack((y1,traj1))\n",
    "        kick_1 = 0.1*np.sin(2*np.pi*y1[-1,0])\n",
    "        y1[-1,1]+=kick_1\n",
    "        \n",
    "        traj2=odeint(pred_prey,y2[-1,:],t)\n",
    "        y2=np.vstack((y2,traj2)) \n",
    "        kick_2 = 0.1*np.sin(2*np.pi*y2[-1,0])\n",
    "        y2[-1,1]+=kick_1\n",
    "        prev=i\n",
    "    d = np.sqrt((y1[:,0]-y2[:,0])**2+(y1[:,1]-y2[:,1])**2)\n",
    "    t_total=np.linspace(0,N,num = int(N/dt))\n",
    "    logd=np.log(d)\n",
    "    p=np.polyfit(t_total[0:200],logd[0:200],deg=1)\n",
    "    polylogd=p[1]+p[0]*np.linspace(0,N,num = int(N/dt))\n",
    "    slope = polylogd[1] - polylogd[0]\n",
    "    lexps.append(slope)"
   ]
  },
  {
   "cell_type": "code",
   "execution_count": 24,
   "metadata": {},
   "outputs": [
    {
     "data": {
      "text/plain": [
       "[<matplotlib.lines.Line2D at 0x122ab42d0>]"
      ]
     },
     "execution_count": 24,
     "metadata": {},
     "output_type": "execute_result"
    },
    {
     "data": {
      "image/png": "[encoded data removed]",
      "text/plain": [
       "<Figure size 432x288 with 1 Axes>"
      ]
     },
     "metadata": {
      "needs_background": "light"
     },
     "output_type": "display_data"
    }
   ],
   "source": [
    "plt.plot(lexps*Ts)"
   ]
  },
  {
   "cell_type": "code",
   "execution_count": null,
   "metadata": {},
   "outputs": [],
   "source": []
  }
 ],
 "metadata": {
  "kernelspec": {
   "display_name": "Python 3",
   "language": "python",
   "name": "python3"
  },
  "language_info": {
   "codemirror_mode": {
    "name": "ipython",
    "version": 3
   },
   "file_extension": ".py",
   "mimetype": "text/x-python",
   "name": "python",
   "nbconvert_exporter": "python",
   "pygments_lexer": "ipython3",
   "version": "3.7.7"
  }
 },
 "nbformat": 4,
 "nbformat_minor": 4
}
