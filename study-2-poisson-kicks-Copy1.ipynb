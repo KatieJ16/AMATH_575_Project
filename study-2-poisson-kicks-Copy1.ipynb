{
 "cells": [
  {
   "cell_type": "markdown",
   "metadata": {},
   "source": [
    "# Replicating Lin et al. (2008): Study 2\n",
    "## Exploring different types of disutubtions. "
   ]
  },
  {
   "cell_type": "code",
   "execution_count": 1,
   "metadata": {},
   "outputs": [],
   "source": [
    "# Import packaqes\n",
    "import numpy as np\n",
    "import matplotlib.pyplot as plt\n",
    "import tqdm as tqdm\n",
    "from decimal import *\n",
    "%matplotlib inline"
   ]
  },
  {
   "cell_type": "code",
   "execution_count": 2,
   "metadata": {},
   "outputs": [],
   "source": [
    "# Define Parameters\n",
    "sigma = 2.0 #shear\n",
    "lam = 1.0 #damping\n",
    "A = 0.1 #kick amplitude\n",
    "#T = 2 #time interval of kicks"
   ]
  },
  {
   "cell_type": "code",
   "execution_count": 3,
   "metadata": {},
   "outputs": [],
   "source": [
    "# Build Map reduction of dynamics: Lin. et al equation 5\n",
    "def H(theta):\n",
    "    return np.sin(2*np.pi*theta)\n",
    "\n",
    "def rand_T(mean_T):\n",
    "    return np.random.exponential(mean_T)\n",
    "\n",
    "def rand_T_uniform(mean_T):\n",
    "    return np.random.uniform(0, mean_T)\n",
    "\n",
    "def rand_T_gaus(mean_T):\n",
    "    return np.random.normal(mean_T, mean_T/10.0)\n",
    "\n",
    "def rand_T_deter(mean_T):\n",
    "    return mean_T\n",
    "\n",
    "def rand_T_cauchy(mode_T):\n",
    "#     print(np.random.standard_cauchy() + mode_T)\n",
    "    return abs(np.random.standard_cauchy() + mode_T)\n",
    "\n",
    "def f_map(theta,y,lam, sigma, T, A): # for theta\n",
    "    return (theta + T + (sigma/lam)*(y + A*H(theta))*(1 - np.exp(-lam*T))) % 1\n",
    "\n",
    "def g_map(theta, y, lam, T, A): # for y\n",
    "    return np.exp(-lam*T)*(y + A*H(theta))"
   ]
  },
  {
   "cell_type": "code",
   "execution_count": 4,
   "metadata": {},
   "outputs": [],
   "source": [
    "# Compute Jacobian of map reduction\n",
    "c2 = sigma/lam\n",
    "\n",
    "def jac1(theta, T, A):\n",
    "    c3 = 2*np.pi*A*np.cos(2*np.pi*theta)\n",
    "    c1 = np.exp(-lam*T)\n",
    "    \n",
    "    # see: https://docs.python.org/3/library/decimal.html\n",
    "    return np.array([[Decimal((1 + c2*c3*(1-c1))), Decimal((c2*(1-c1)))],\n",
    "                     [Decimal((c1*c3)), Decimal(c1)]]) "
   ]
  },
  {
   "cell_type": "code",
   "execution_count": 5,
   "metadata": {},
   "outputs": [],
   "source": [
    "# Run test simulations\n",
    "Ts = np.linspace(0.1,20,40)\n",
    "def test_sim(rand_T_func, vary_A = True):\n",
    "    \n",
    "    sim_ly_s = []\n",
    "\n",
    "    for t in tqdm.tqdm(Ts):\n",
    "        T = t # set time between kicks\n",
    "\n",
    "        max_run = 5 # no. of replications\n",
    "        max_iter = 1000 # no. of map iterations\n",
    "\n",
    "        run_ly_s = []\n",
    "\n",
    "        # Run with fixed parameter values\n",
    "        for i in range(max_run):\n",
    "\n",
    "            # random initial state\n",
    "            theta_T = np.random.uniform(0,1)\n",
    "            y_T = np.random.uniform(-0.1, 0.1)\n",
    "\n",
    "            # generate unit tangent vector\n",
    "            u = np.array([0,1]).T\n",
    "            log_arg = u # initialize log argument for lyapunov exponent\n",
    "\n",
    "            for j in range(max_iter):\n",
    "                    # Determine time of next kick\n",
    "                T_kick = abs(rand_T_func(T))\n",
    "                if vary_A:\n",
    "                    A_kick = A*np.random.uniform(0.8,1.2)\n",
    "                else:\n",
    "                    A_kick = A\n",
    "\n",
    "                # Update jacobian product\n",
    "                try:\n",
    "                    log_arg = jac1(theta_T, T_kick, A_kick).dot(log_arg)\n",
    "                except: \n",
    "                    print(T_kick)\n",
    "\n",
    "                # Update system state: (theta,y)\n",
    "                theta_T = f_map(theta_T, y_T, lam, sigma, T_kick, A_kick)\n",
    "                y_T = g_map(theta_T, y_T, lam, T_kick, A_kick)\n",
    "\n",
    "            # Store run values\n",
    "            run_ly_s.append(float(Decimal(np.linalg.norm(log_arg)).ln()/max_iter))\n",
    "\n",
    "        # Store max lyapunov exponents\n",
    "        sim_ly_s.append(np.unique(run_ly_s)[-2])#np.max(run_ly_s))\n",
    "    return sim_ly_s"
   ]
  },
  {
   "cell_type": "code",
   "execution_count": 6,
   "metadata": {},
   "outputs": [
    {
     "name": "stderr",
     "output_type": "stream",
     "text": [
      "100%|██████████████████████████████████████████████████████████████████████████████████| 40/40 [00:18<00:00,  2.21it/s]\n",
      "100%|██████████████████████████████████████████████████████████████████████████████████| 40/40 [00:23<00:00,  1.71it/s]\n",
      "100%|██████████████████████████████████████████████████████████████████████████████████| 40/40 [00:23<00:00,  1.70it/s]\n",
      "100%|██████████████████████████████████████████████████████████████████████████████████| 40/40 [00:17<00:00,  2.29it/s]\n",
      "100%|██████████████████████████████████████████████████████████████████████████████████| 40/40 [00:19<00:00,  2.08it/s]\n"
     ]
    }
   ],
   "source": [
    "# sim_ly_s_exp = test_sim(rand_T)\n",
    "sim_ly_s_exp_b = test_sim(rand_T, vary_A = False)\n",
    "# sim_ly_s_unif = test_sim(rand_T_uniform)\n",
    "sim_ly_s_unif_b = test_sim(rand_T_uniform, vary_A = False)\n",
    "sim_ly_s_deter = test_sim(rand_T_deter, vary_A = False)\n",
    "# sim_ly_s_deter_b = test_sim(rand_T_deter)\n",
    "# sim_ly_s_gaus = test_sim(rand_T_gaus)\n",
    "sim_ly_s_gaus_b = test_sim(rand_T_gaus, vary_A = False)\n",
    "sim_ly_cauchy_b = test_sim(rand_T_cauchy, vary_A = False)"
   ]
  },
  {
   "cell_type": "code",
   "execution_count": 7,
   "metadata": {},
   "outputs": [
    {
     "data": {
      "image/png": "[encoded data removed]",
      "text/plain": [
       "<Figure size 432x288 with 1 Axes>"
      ]
     },
     "metadata": {
      "needs_background": "light"
     },
     "output_type": "display_data"
    }
   ],
   "source": [
    "# Plot max lyapunov exponents\n",
    "plt.plot(Ts, sim_ly_s_deter, 'o-', label = \"Deterministic\")\n",
    "# plt.plot(Ts, sim_ly_s_exp, 'o-', label = \"Exp\")\n",
    "plt.plot(Ts, sim_ly_s_exp_b, 'o-', label = \"Exp\")\n",
    "# plt.plot(Ts, sim_ly_s_unif, 'o-', label = \"Uniform\")\n",
    "plt.plot(Ts, sim_ly_s_unif_b, 'o-', label = \"Uniform\")\n",
    "\n",
    "# plt.plot(Ts, sim_ly_s_deter_b, 'o-', label = \"Deterministic - Varied\")\n",
    "# plt.plot(Ts, sim_ly_s_gaus, 'o-', label = \"Normal\")\n",
    "plt.plot(Ts, sim_ly_s_gaus_b, 'o-', label = \"Normal\")\n",
    "plt.plot(Ts, sim_ly_cauchy_b, 'o-', label = \"Cauchy\")\n",
    "plt.axhline(y=0, color='k', linewidth= 0.5)\n",
    "plt.xlabel('Mean kick interval <T>')\n",
    "plt.ylabel('Max Lyap. exp.')\n",
    "plt.legend()\n",
    "plt.suptitle('sigma = {}, lambda ={}, A = {}'.format(sigma,lam,A))\n",
    "plt.show()"
   ]
  },
  {
   "cell_type": "code",
   "execution_count": 8,
   "metadata": {},
   "outputs": [
    {
     "data": {
      "image/png": "[encoded data removed]",
      "text/plain": [
       "<Figure size 432x288 with 1 Axes>"
      ]
     },
     "metadata": {
      "needs_background": "light"
     },
     "output_type": "display_data"
    }
   ],
   "source": [
    "import matplotlib.pyplot as plt\n",
    "s = np.abs(np.random.standard_cauchy(1000000) + 5)\n",
    "s = s[(s>-25) & (s<25)]  # truncate distribution so it plots well\n",
    "plt.hist(s, bins=100, density=True)\n",
    "\n",
    "# s = np.random.normal(0, 1, 1000000)\n",
    "# s = s[(s>-25) & (s<25)]  # truncate distribution so it plots well\n",
    "# plt.hist(s, bins=100, density=True, alpha = 0.5)\n",
    "\n",
    "plt.show()"
   ]
  },
  {
   "cell_type": "code",
   "execution_count": null,
   "metadata": {},
   "outputs": [],
   "source": []
  }
 ],
 "metadata": {
  "kernelspec": {
   "display_name": "Python 3",
   "language": "python",
   "name": "python3"
  },
  "language_info": {
   "codemirror_mode": {
    "name": "ipython",
    "version": 3
   },
   "file_extension": ".py",
   "mimetype": "text/x-python",
   "name": "python",
   "nbconvert_exporter": "python",
   "pygments_lexer": "ipython3",
   "version": "3.7.10"
  }
 },
 "nbformat": 4,
 "nbformat_minor": 4
}
