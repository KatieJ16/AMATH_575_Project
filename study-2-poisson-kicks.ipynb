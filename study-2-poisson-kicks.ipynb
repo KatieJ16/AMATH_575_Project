{
 "cells": [
  {
   "cell_type": "markdown",
   "metadata": {},
   "source": [
    "# Replicating Lin et al. (2008): Study 2"
   ]
  },
  {
   "cell_type": "code",
   "execution_count": 1,
   "metadata": {},
   "outputs": [],
   "source": [
    "# Import packaqes\n",
    "import numpy as np\n",
    "import matplotlib.pyplot as plt\n",
    "import tqdm as tqdm\n",
    "from decimal import *\n",
    "from scipy.stats import cauchy\n",
    "%matplotlib inline"
   ]
  },
  {
   "cell_type": "code",
   "execution_count": 2,
   "metadata": {},
   "outputs": [],
   "source": [
    "# Define Parameters\n",
    "sigma = 0.2 #shear\n",
    "lam = 0.15 #damping\n",
    "A = 0.1 #kick amplitude\n",
    "#T = 2 #time interval of kicks"
   ]
  },
  {
   "cell_type": "code",
   "execution_count": 3,
   "metadata": {},
   "outputs": [
    {
     "data": {
      "text/plain": [
       "1.0"
      ]
     },
     "execution_count": 3,
     "metadata": {},
     "output_type": "execute_result"
    }
   ],
   "source": [
    "# Build Map reduction of dynamics: Lin. et al equation 5\n",
    "def H(theta):\n",
    "    return np.sin(2*np.pi*theta)\n",
    "\n",
    "def rand_T(mean_T):\n",
    "    return np.random.exponential(mean_T)\n",
    "\n",
    "def rand_T_cauchy(mode_T, scale = 1):\n",
    "    rng = np.random.default_rng()\n",
    "    return np.maximum(0, cauchy.rvs(loc = mode_T, scale = scale, size=1).item())\n",
    "\n",
    "def rand_T_norm(mean_T, scale = 1):\n",
    "    rng = np.random.default_rng()\n",
    "    return np.maximum(0, rng.normal(loc = mean_T, scale = 1/(mean_T**2)))\n",
    "\n",
    "def f_map(theta,y,lam, sigma, T, A): # for theta\n",
    "    return (theta + T + (sigma/lam)*(y + A*H(theta))*(1 - np.exp(-lam*T))) % 1\n",
    "\n",
    "def g_map(theta, y, lam, T, A): # for y\n",
    "    return np.exp(-lam*T)*(y + A*H(theta))\n",
    "\n",
    "rand_T_cauchy(1,1/(10**32))"
   ]
  },
  {
   "cell_type": "code",
   "execution_count": 4,
   "metadata": {},
   "outputs": [],
   "source": [
    "# Compute Jacobian of map reduction\n",
    "c2 = sigma/lam\n",
    "\n",
    "def jac1(theta, T, A):\n",
    "    c3 = 2*np.pi*A*np.cos(2*np.pi*theta)\n",
    "    c1 = np.exp(-lam*T)\n",
    "    \n",
    "    # see: https://docs.python.org/3/library/decimal.html\n",
    "    return np.array([[Decimal((1 + c2*c3*(1-c1))), Decimal((c2*(1-c1)))],\n",
    "                     [Decimal((c1*c3)), Decimal(c1)]]) "
   ]
  },
  {
   "cell_type": "code",
   "execution_count": 19,
   "metadata": {},
   "outputs": [
    {
     "name": "stderr",
     "output_type": "stream",
     "text": [
      "100%|██████████| 40/40 [00:35<00:00,  1.13it/s]\n"
     ]
    }
   ],
   "source": [
    "# Run test simulations\n",
    "\n",
    "Ts = np.linspace(0.1,20,40)\n",
    "sim_ly_s = []\n",
    "\n",
    "for t in tqdm.tqdm(Ts):\n",
    "    T = t # set time between kicks\n",
    "    \n",
    "    max_run = 10 # no. of replications\n",
    "    max_iter = 1000 # no. of map iterations\n",
    "    \n",
    "    run_ly_s = []\n",
    "    \n",
    "    # Run with fixed parameter values\n",
    "    for i in range(max_run):\n",
    "\n",
    "        # random initial state\n",
    "        theta_T = np.random.uniform(0,1)\n",
    "        y_T = np.random.uniform(-0.1, 0.1)\n",
    "\n",
    "        # generate unit tangent vector\n",
    "        u = np.array([0,1]).T\n",
    "        log_arg = u # initialize log argument for lyapunov exponent\n",
    "\n",
    "        for j in range(max_iter):\n",
    "            # Determine time of next kick\n",
    "            T_kick = rand_T(T)\n",
    "            A_kick = A*np.random.uniform(0.8,1.2)\n",
    "            \n",
    "            # Update jacobian product\n",
    "            log_arg = jac1(theta_T, T_kick, A_kick).dot(log_arg)\n",
    "\n",
    "            # Update system state: (theta,y)\n",
    "            theta_T = f_map(theta_T, y_T, lam, sigma, T_kick, A_kick)\n",
    "            y_T = g_map(theta_T, y_T, lam, T_kick, A_kick)\n",
    "\n",
    "        # Store run values\n",
    "        run_ly_s.append(float(Decimal(np.linalg.norm(log_arg)).ln()/max_iter))\n",
    "        \n",
    "    # Store max lyapunov exponents\n",
    "    sim_ly_s.append(np.max(run_ly_s))"
   ]
  },
  {
   "cell_type": "code",
   "execution_count": 20,
   "metadata": {},
   "outputs": [
    {
     "data": {
      "image/png": "[encoded data removed]",
      "text/plain": [
       "<Figure size 432x288 with 1 Axes>"
      ]
     },
     "metadata": {
      "needs_background": "light"
     },
     "output_type": "display_data"
    }
   ],
   "source": [
    "# Plot max lyapunov exponents\n",
    "plt.plot(Ts, sim_ly_s, 'ko-')\n",
    "plt.xlabel('Mean kick interval <T>')\n",
    "plt.ylabel('Max Lyap. exp.')\n",
    "plt.suptitle('sigma = {}, lambda ={}, A = {}'.format(sigma,lam,A))\n",
    "plt.show()"
   ]
  },
  {
   "cell_type": "code",
   "execution_count": null,
   "metadata": {},
   "outputs": [],
   "source": []
  }
 ],
 "metadata": {
  "kernelspec": {
   "display_name": "Python 3",
   "language": "python",
   "name": "python3"
  },
  "language_info": {
   "codemirror_mode": {
    "name": "ipython",
    "version": 3
   },
   "file_extension": ".py",
   "mimetype": "text/x-python",
   "name": "python",
   "nbconvert_exporter": "python",
   "pygments_lexer": "ipython3",
   "version": "3.8.5"
  }
 },
 "nbformat": 4,
 "nbformat_minor": 4
}
